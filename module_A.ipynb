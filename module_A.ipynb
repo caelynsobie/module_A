{
  "nbformat": 4,
  "nbformat_minor": 0,
  "metadata": {
    "colab": {
      "name": "module A",
      "provenance": [],
      "collapsed_sections": []
    },
    "kernelspec": {
      "name": "python3",
      "display_name": "Python 3"
    },
    "language_info": {
      "name": "python"
    }
  },
  "cells": [
    {
      "cell_type": "markdown",
      "source": [
        "1. Write a function my_bin_2_dec(b) where b is binary number represented by a list of ones and zeros. The last element of b represents the coefficient of 2^0, the second-to-last element of b represents the coefficient of 2^1, and so on. The output variable, d, should be the decimal representation of b. The test cases are provided below."
      ],
      "metadata": {
        "id": "0l1gsnf8HO78"
      }
    },
    {
      "cell_type": "markdown",
      "source": [
        ""
      ],
      "metadata": {
        "id": "eoKVNtffHaAn"
      }
    },
    {
      "cell_type": "code",
      "source": [
        "\n",
        "def my_bin_2_dec(b):\n",
        "   d = 0\n",
        "   m = 1\n",
        "\n",
        "   for digit in b:\n",
        "    digit= int(digit)\n",
        "    d = d + (digit * m)\n",
        "    m = m * 2\n",
        "   return d\n",
        "\n",
        "\n",
        "# Output: 7\n",
        "print(my_bin_2_dec([1, 1, 1])\n",
        "# Output: 85\n",
        "print(my_bin_2_dec([1,0,1,0,1,0,1]))\n",
        "# Output: 33554431\n",
        "print(my_bin_2_dec([1]*25))"
      ],
      "metadata": {
        "colab": {
          "base_uri": "https://localhost:8080/"
        },
        "id": "Qz_686swHh22",
        "outputId": "3b2f25a2-0a31-4b19-e5e3-d3344842c77e"
      },
      "execution_count": null,
      "outputs": [
        {
          "output_type": "stream",
          "name": "stdout",
          "text": [
            "7\n",
            "85\n",
            "33554431\n"
          ]
        }
      ]
    },
    {
      "cell_type": "markdown",
      "source": [
        "To turn the input of binary to the decimal representation, I first set variables d and m to zero and one. Then, using a for loop to go through each digit in the input, d begins at zero then adds itself to each digit of input multiplied by m which begins at one. Then, m gets multiplied by 2 and the loop continues until the"
      ],
      "metadata": {
        "id": "FxOopAQdrmap"
      }
    }
  ]
}